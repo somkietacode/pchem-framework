{
  "nbformat": 4,
  "nbformat_minor": 0,
  "metadata": {
    "colab": {
      "provenance": []
    },
    "kernelspec": {
      "name": "python3",
      "display_name": "Python 3"
    },
    "language_info": {
      "name": "python"
    }
  },
  "cells": [
    {
      "cell_type": "markdown",
      "source": [
        "# Notebook 3: pH Calculations\n",
        "## 1. Buffer Solution pH\n",
        "Calculate pH of 0.1M CH₃COOH / 0.2M CH₃COO⁻ buffer (pKa=4.76)\n"
      ],
      "metadata": {
        "id": "9r7MfV43woBF"
      }
    },
    {
      "cell_type": "code",
      "source": [
        "from pchem_framework.calculations.ph import buffer_ph\n",
        "\n",
        "ph = buffer_ph(0.1, 0.2, 4.76)\n",
        "print(f\"Buffer pH: {ph:.2f}\")"
      ],
      "metadata": {
        "colab": {
          "base_uri": "https://localhost:8080/"
        },
        "id": "hxCTI1KruRRN",
        "outputId": "99da501e-fd2d-47cd-d06d-bbf9ec3be06f"
      },
      "execution_count": 10,
      "outputs": [
        {
          "output_type": "stream",
          "name": "stdout",
          "text": [
            "Buffer pH: 5.06\n"
          ]
        }
      ]
    }
  ]
}
