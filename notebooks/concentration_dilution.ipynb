{
  "nbformat": 4,
  "nbformat_minor": 0,
  "metadata": {
    "colab": {
      "provenance": []
    },
    "kernelspec": {
      "name": "python3",
      "display_name": "Python 3"
    },
    "language_info": {
      "name": "python"
    }
  },
  "cells": [
    {
      "cell_type": "markdown",
      "source": [
        "# Notebook 2: Concentration Calculations\n",
        "## 1. ppm to Molarity Conversion\n",
        "Convert 500 ppm NaCl solution (density=1.02 g/mL) to molarity\n"
      ],
      "metadata": {
        "id": "9r7MfV43woBF"
      }
    },
    {
      "cell_type": "code",
      "source": [
        "from pchem_framework.calculations.concentration import ppm_to_molarity\n",
        "\n",
        "molarity = ppm_to_molarity(500, 58.44, 1.02)\n",
        "print(f\"Concentration: {molarity:.4f} M\")"
      ],
      "metadata": {
        "colab": {
          "base_uri": "https://localhost:8080/"
        },
        "id": "hxCTI1KruRRN",
        "outputId": "c443c530-7841-44a6-d682-2d5b39477dc1"
      },
      "execution_count": 9,
      "outputs": [
        {
          "output_type": "stream",
          "name": "stdout",
          "text": [
            "Concentration: 0.0087 M\n"
          ]
        }
      ]
    }
  ]
}
