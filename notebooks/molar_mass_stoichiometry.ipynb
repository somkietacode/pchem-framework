# %% [markdown]
# # Notebook 1: Molar Mass & Stoichiometry Calculations
# ## Introduction
# This notebook demonstrates:
# 1. Molar mass calculations for chemical compounds
# 2. Stoichiometric calculations for chemical reactions

# %% [markdown]
# ## 1. Molar Mass Calculation
# Calculate molar mass of glucose (C₆H₁₂O₆):

# %%
from pchem_framework.calculations.molar_mass import calculate_molar_mass

atomic_weights = {
    'C': 12.01, 
    'H': 1.008,
    'O': 16.00
}

glucose_mass = calculate_molar_mass('C6H12O6', atomic_weights)
print(f"Molar mass of glucose: {glucose_mass} g/mol")

# Output: Molar mass of glucose: 180.156 g/mol

# %% [markdown]
# ## 2. Limiting Reactant Analysis
# For the reaction: 2Al + 6HCl → 2AlCl₃ + 3H₂

# %%
from pchem_framework.calculations.stoichiometry import limiting_reactant

reactant_amounts = [4.0, 9.0]  # moles of Al and HCl
coefficients = [2, 6]

limiting_idx = limiting_reactant(reactant_amounts, coefficients)
print(f"Limiting reactant index: {limiting_idx} (0=Al, 1=HCl)")
