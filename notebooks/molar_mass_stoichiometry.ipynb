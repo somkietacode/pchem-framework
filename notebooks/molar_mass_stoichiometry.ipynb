{
  "nbformat": 4,
  "nbformat_minor": 0,
  "metadata": {
    "colab": {
      "provenance": []
    },
    "kernelspec": {
      "name": "python3",
      "display_name": "Python 3"
    },
    "language_info": {
      "name": "python"
    }
  },
  "cells": [
    {
      "cell_type": "markdown",
      "source": [
        "\n",
        "# Notebook 1: Molar Mass & Stoichiometry Calculations\n",
        "## Introduction\n",
        "This notebook demonstrates:\n",
        " 1. Molar mass calculations for chemical compounds\n",
        " 2. Stoichiometric calculations for chemical reactions\n",
        "\n",
        "## 1. Molar Mass Calculation\n",
        "Calculate molar mass of glucose (C₆H₁₂O₆):\n"
      ],
      "metadata": {
        "id": "9r7MfV43woBF"
      }
    },
    {
      "cell_type": "code",
      "source": [
        "\n",
        "from pchem_framework.calculations.stoichiometry import limiting_reactant\n",
        "\n",
        "reactant_amounts = [4.0, 9.0]  # moles of Al and HCl\n",
        "coefficients = [2, 6]\n",
        "\n",
        "limiting_idx = limiting_reactant(reactant_amounts, coefficients)\n",
        "print(f\"Limiting reactant index: {limiting_idx} (0=Al, 1=HCl)\")"
      ],
      "metadata": {
        "colab": {
          "base_uri": "https://localhost:8080/"
        },
        "id": "hxCTI1KruRRN",
        "outputId": "6bf59579-d0ad-49e6-e524-869d4f8267f0"
      },
      "execution_count": 7,
      "outputs": [
        {
          "output_type": "stream",
          "name": "stdout",
          "text": [
            "Limiting reactant index: 1 (0=Al, 1=HCl)\n"
          ]
        }
      ]
    },
    {
      "cell_type": "markdown",
      "source": [
        "Output: Molar mass of glucose: 180.156 g/mol\n",
        "\n",
        "## 2. Limiting Reactant Analysis\n",
        "For the reaction: 2Al + 6HCl → 2AlCl₃ + 3H₂\n",
        "\n"
      ],
      "metadata": {
        "id": "HIeQdgomxMDb"
      }
    },
    {
      "cell_type": "code",
      "source": [
        "from pchem_framework.calculations.stoichiometry import limiting_reactant\n",
        "\n",
        "reactant_amounts = [4.0, 9.0]  # moles of Al and HCl\n",
        "coefficients = [2, 6]\n",
        "\n",
        "limiting_idx = limiting_reactant(reactant_amounts, coefficients)\n",
        "print(f\"Limiting reactant index: {limiting_idx} (0=Al, 1=HCl)\")"
      ],
      "metadata": {
        "colab": {
          "base_uri": "https://localhost:8080/"
        },
        "id": "3z4oZVu5xTGS",
        "outputId": "a394331f-66c8-49d6-92eb-90598cd73292"
      },
      "execution_count": 8,
      "outputs": [
        {
          "output_type": "stream",
          "name": "stdout",
          "text": [
            "Limiting reactant index: 1 (0=Al, 1=HCl)\n"
          ]
        }
      ]
    }
  ]
}
