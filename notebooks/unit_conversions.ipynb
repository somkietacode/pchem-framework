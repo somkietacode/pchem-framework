{
  "nbformat": 4,
  "nbformat_minor": 0,
  "metadata": {
    "colab": {
      "provenance": []
    },
    "kernelspec": {
      "name": "python3",
      "display_name": "Python 3"
    },
    "language_info": {
      "name": "python"
    }
  },
  "cells": [
    {
      "cell_type": "markdown",
      "source": [
        "# Notebook 6: Chemistry Unit Conversions\n",
        "## 1. Pressure Conversion\n"
      ],
      "metadata": {
        "id": "9r7MfV43woBF"
      }
    },
    {
      "cell_type": "code",
      "source": [
        "from pchem_framework.data_handling.unit_conversion import UnitConverter\n",
        "\n",
        "pressure_pa = UnitConverter.convert_pressure(1, 'atm', 'Pa')\n",
        "print(f\"1 atm = {pressure_pa} Pa\")"
      ],
      "metadata": {
        "colab": {
          "base_uri": "https://localhost:8080/"
        },
        "id": "hxCTI1KruRRN",
        "outputId": "abca7c6c-921c-41f9-da94-fe7f3ac630f2"
      },
      "execution_count": 13,
      "outputs": [
        {
          "output_type": "stream",
          "name": "stdout",
          "text": [
            "1 atm = 101325.0 Pa\n"
          ]
        }
      ]
    }
  ]
}
